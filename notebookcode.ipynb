{
 "cells": [
  {
   "cell_type": "markdown",
   "id": "becd19af",
   "metadata": {},
   "source": []
  },
  {
   "cell_type": "markdown",
   "id": "596895bc",
   "metadata": {},
   "source": [
    "Importing the Libraries "
   ]
  },
  {
   "cell_type": "code",
   "execution_count": 10,
   "id": "a85ae832",
   "metadata": {},
   "outputs": [],
   "source": [
    "\n",
    "import pandas as pd\n",
    "import numpy as np\n",
    "import seaborn as sns # type: ignore\n",
    "import matplotlib.pyplot as plt # type: ignore\n",
    "from sklearn.model_selection import train_test_split\n",
    "from sklearn.preprocessing import LabelEncoder\n",
    "from sklearn.svm import SVC\n",
    "from sklearn.linear_model import LogisticRegression\n",
    "from sklearn.metrics import accuracy_score, confusion_matrix, classification_report\n",
    "from sklearn.svm import SVC\n",
    "from sklearn.preprocessing import StandardScaler"
   ]
  },
  {
   "cell_type": "markdown",
   "id": "38df2115",
   "metadata": {},
   "source": [
    "# Cell 2: Load Dataset"
   ]
  },
  {
   "cell_type": "code",
   "execution_count": 12,
   "id": "36439e23",
   "metadata": {},
   "outputs": [
    {
     "name": "stdout",
     "output_type": "stream",
     "text": [
      "    Animal  Age  Temperature         Symptom 1         Symptom 2  \\\n",
      "0      cow    3        103.1        depression    painless lumps   \n",
      "1  buffalo   13        104.5    painless lumps  loss of appetite   \n",
      "2    sheep    1        100.5        depression    painless lumps   \n",
      "3      cow   14        100.3  loss of appetite  swelling in limb   \n",
      "4    sheep    2        103.6    painless lumps  loss of appetite   \n",
      "\n",
      "          Symptom 3      Disease  \n",
      "0  loss of appetite    pneumonia  \n",
      "1        depression  lumpy virus  \n",
      "2  loss of appetite  lumpy virus  \n",
      "3   crackling sound     blackleg  \n",
      "4        depression    pneumonia  \n"
     ]
    },
    {
     "data": {
      "text/html": [
       "<div>\n",
       "<style scoped>\n",
       "    .dataframe tbody tr th:only-of-type {\n",
       "        vertical-align: middle;\n",
       "    }\n",
       "\n",
       "    .dataframe tbody tr th {\n",
       "        vertical-align: top;\n",
       "    }\n",
       "\n",
       "    .dataframe thead th {\n",
       "        text-align: right;\n",
       "    }\n",
       "</style>\n",
       "<table border=\"1\" class=\"dataframe\">\n",
       "  <thead>\n",
       "    <tr style=\"text-align: right;\">\n",
       "      <th></th>\n",
       "      <th>Animal</th>\n",
       "      <th>Age</th>\n",
       "      <th>Temperature</th>\n",
       "      <th>Symptom 1</th>\n",
       "      <th>Symptom 2</th>\n",
       "      <th>Symptom 3</th>\n",
       "      <th>Disease</th>\n",
       "    </tr>\n",
       "  </thead>\n",
       "  <tbody>\n",
       "    <tr>\n",
       "      <th>43773</th>\n",
       "      <td>goat</td>\n",
       "      <td>9</td>\n",
       "      <td>102.2</td>\n",
       "      <td>swelling in muscle</td>\n",
       "      <td>lameness</td>\n",
       "      <td>crackling sound</td>\n",
       "      <td>blackleg</td>\n",
       "    </tr>\n",
       "    <tr>\n",
       "      <th>43774</th>\n",
       "      <td>buffalo</td>\n",
       "      <td>3</td>\n",
       "      <td>101.8</td>\n",
       "      <td>loss of appetite</td>\n",
       "      <td>sores on mouth</td>\n",
       "      <td>difficulty walking</td>\n",
       "      <td>foot and mouth</td>\n",
       "    </tr>\n",
       "    <tr>\n",
       "      <th>43775</th>\n",
       "      <td>buffalo</td>\n",
       "      <td>15</td>\n",
       "      <td>104.1</td>\n",
       "      <td>swelling in extremities</td>\n",
       "      <td>chills</td>\n",
       "      <td>shortness of breath</td>\n",
       "      <td>anthrax</td>\n",
       "    </tr>\n",
       "    <tr>\n",
       "      <th>43776</th>\n",
       "      <td>cow</td>\n",
       "      <td>9</td>\n",
       "      <td>104.9</td>\n",
       "      <td>crackling sound</td>\n",
       "      <td>lameness</td>\n",
       "      <td>swelling in muscle</td>\n",
       "      <td>blackleg</td>\n",
       "    </tr>\n",
       "    <tr>\n",
       "      <th>43777</th>\n",
       "      <td>buffalo</td>\n",
       "      <td>4</td>\n",
       "      <td>103.5</td>\n",
       "      <td>difficulty walking</td>\n",
       "      <td>sores on gums</td>\n",
       "      <td>loss of appetite</td>\n",
       "      <td>foot and mouth</td>\n",
       "    </tr>\n",
       "  </tbody>\n",
       "</table>\n",
       "</div>"
      ],
      "text/plain": [
       "        Animal  Age  Temperature                Symptom 1       Symptom 2  \\\n",
       "43773     goat    9        102.2       swelling in muscle        lameness   \n",
       "43774  buffalo    3        101.8         loss of appetite  sores on mouth   \n",
       "43775  buffalo   15        104.1  swelling in extremities          chills   \n",
       "43776      cow    9        104.9          crackling sound        lameness   \n",
       "43777  buffalo    4        103.5       difficulty walking   sores on gums   \n",
       "\n",
       "                 Symptom 3         Disease  \n",
       "43773      crackling sound        blackleg  \n",
       "43774   difficulty walking  foot and mouth  \n",
       "43775  shortness of breath         anthrax  \n",
       "43776   swelling in muscle        blackleg  \n",
       "43777     loss of appetite  foot and mouth  "
      ]
     },
     "execution_count": 12,
     "metadata": {},
     "output_type": "execute_result"
    }
   ],
   "source": [
    "\n",
    "df = pd.read_csv(\"animal_disease_dataset.csv\")\n",
    "print(df.head())\n",
    "df.tail()\n",
    "\n"
   ]
  },
  {
   "cell_type": "markdown",
   "id": "29fa804e",
   "metadata": {},
   "source": [
    "# Cell 3: Data Summary"
   ]
  },
  {
   "cell_type": "code",
   "execution_count": 13,
   "id": "58b9dcb4",
   "metadata": {},
   "outputs": [
    {
     "name": "stdout",
     "output_type": "stream",
     "text": [
      "Shape: (43778, 7)\n",
      "\n",
      "Missing values:\n",
      " Animal         0\n",
      "Age            0\n",
      "Temperature    0\n",
      "Symptom 1      0\n",
      "Symptom 2      0\n",
      "Symptom 3      0\n",
      "Disease        0\n",
      "dtype: int64\n",
      "\n",
      "Data types:\n",
      " Animal          object\n",
      "Age              int64\n",
      "Temperature    float64\n",
      "Symptom 1       object\n",
      "Symptom 2       object\n",
      "Symptom 3       object\n",
      "Disease         object\n",
      "dtype: object\n"
     ]
    }
   ],
   "source": [
    "\n",
    "print(\"Shape:\", df.shape)\n",
    "print(\"\\nMissing values:\\n\", df.isnull().sum())\n",
    "print(\"\\nData types:\\n\", df.dtypes)\n"
   ]
  },
  {
   "cell_type": "markdown",
   "id": "68f47c8f",
   "metadata": {},
   "source": [
    "# Cell 4: Remove Outliers (IQR Method)"
   ]
  },
  {
   "cell_type": "code",
   "execution_count": 14,
   "id": "79eebe36",
   "metadata": {},
   "outputs": [
    {
     "name": "stdout",
     "output_type": "stream",
     "text": [
      "\n",
      " Checking for outliers in column: Temperature\n"
     ]
    },
    {
     "data": {
      "image/png": "[encoded data removed]",
      "text/plain": [
       "<Figure size 600x300 with 1 Axes>"
      ]
     },
     "metadata": {},
     "output_type": "display_data"
    },
    {
     "name": "stdout",
     "output_type": "stream",
     "text": [
      "📉 Removed 0 outliers from 'Temperature'\n"
     ]
    },
    {
     "data": {
      "image/png": "[encoded data removed]",
      "text/plain": [
       "<Figure size 600x300 with 1 Axes>"
      ]
     },
     "metadata": {},
     "output_type": "display_data"
    },
    {
     "name": "stdout",
     "output_type": "stream",
     "text": [
      "\n",
      " Checking for outliers in column: Age\n"
     ]
    },
    {
     "data": {
      "image/png": "[encoded data removed]",
      "text/plain": [
       "<Figure size 600x300 with 1 Axes>"
      ]
     },
     "metadata": {},
     "output_type": "display_data"
    },
    {
     "name": "stdout",
     "output_type": "stream",
     "text": [
      "📉 Removed 0 outliers from 'Age'\n"
     ]
    },
    {
     "data": {
      "image/png": "[encoded data removed]",
      "text/plain": [
       "<Figure size 600x300 with 1 Axes>"
      ]
     },
     "metadata": {},
     "output_type": "display_data"
    },
    {
     "name": "stdout",
     "output_type": "stream",
     "text": [
      "\n",
      "✅ Final data shape after outlier removal: (43778, 7)\n"
     ]
    }
   ],
   "source": [
    "\n",
    "\"\"\"def remove_outliers_iqr(data, column):\n",
    "    Q1 = data[column].quantile(0.25)\n",
    "    Q3 = data[column].quantile(0.75)\n",
    "    IQR = Q3 - Q1\n",
    "    lower_bound = Q1 - 1.5 * IQR\n",
    "    upper_bound = Q3 + 1.5 * IQR\n",
    "    return data[(data[column] >= lower_bound) & (data[column] <= upper_bound)]\n",
    "\n",
    "df = remove_outliers_iqr(df, 'Temperature')\n",
    "df = remove_outliers_iqr(df, 'Age')\n",
    "print(\"Data shape after outlier removal:\", df.shape)\"\"\"\n",
    "\n",
    "# Function to remove outliers using IQR and visualize changes\n",
    "def remove_outliers_iqr(data, column):\n",
    "    print(f\"\\n Checking for outliers in column: {column}\")\n",
    "    \n",
    "    # Plot before removal\n",
    "    plt.figure(figsize=(6, 3))\n",
    "    sns.boxplot(y=data[column], color='orange')\n",
    "    plt.title(f'Before Outlier Removal: {column}')\n",
    "    plt.show()\n",
    "    \n",
    "    # IQR Calculation\n",
    "    Q1 = data[column].quantile(0.25)\n",
    "    Q3 = data[column].quantile(0.75)\n",
    "    IQR = Q3 - Q1\n",
    "    lower_bound = Q1 - 1.5 * IQR\n",
    "    upper_bound = Q3 + 1.5 * IQR\n",
    "\n",
    "    # Filter out outliers\n",
    "    original_count = data.shape[0]\n",
    "    data = data[(data[column] >= lower_bound) & (data[column] <= upper_bound)]\n",
    "    new_count = data.shape[0]\n",
    "    removed = original_count - new_count\n",
    "    print(f\"📉 Removed {removed} outliers from '{column}'\")\n",
    "\n",
    "    # Plot after removal\n",
    "    plt.figure(figsize=(6, 3))\n",
    "    sns.boxplot(y=data[column], color='lightgreen')\n",
    "    plt.title(f'After Outlier Removal: {column}')\n",
    "    sns.barplot(y=data[column], color='green')\n",
    "    plt.title(f'Barplot')\n",
    "    plt.show()\n",
    "\n",
    "    return data\n",
    "\n",
    "df = remove_outliers_iqr(df, 'Temperature')\n",
    "df = remove_outliers_iqr(df, 'Age')\n",
    "\n",
    "print(\"\\n✅ Final data shape after outlier removal:\", df.shape)\n",
    "\n"
   ]
  },
  {
   "cell_type": "code",
   "execution_count": 15,
   "id": "e3abfda1",
   "metadata": {},
   "outputs": [],
   "source": [
    "# Cell 5: Label Encoding\n",
    "label_encoders = {}\n",
    "for col in ['Animal', 'Symptom 1', 'Symptom 2', 'Symptom 3', 'Disease']:\n",
    "    le = LabelEncoder()\n",
    "    df[col] = le.fit_transform(df[col])\n",
    "    label_encoders[col] = le\n"
   ]
  },
  {
   "cell_type": "code",
   "execution_count": 16,
   "id": "5aa33190",
   "metadata": {},
   "outputs": [],
   "source": [
    "\n",
    "# Cell 6: Define Features and Labels\n",
    "from sklearn.model_selection import train_test_split\n",
    "X = df[['Animal', 'Age', 'Temperature', 'Symptom 1', 'Symptom 2', 'Symptom 3']]\n",
    "y = df['Disease']\n",
    "\n",
    "X_train, X_test, y_train, y_test = train_test_split(X, y, test_size=0.2, random_state=42)\n"
   ]
  },
  {
   "cell_type": "code",
   "execution_count": null,
   "id": "f4a40090",
   "metadata": {},
   "outputs": [],
   "source": [
    "\n",
    "from sklearn.preprocessing import StandardScaler\n",
    "from sklearn.svm import SVC\n",
    "from sklearn.linear_model import LogisticRegression\n",
    "\n",
    "\n",
    "\n",
    "scaler = StandardScaler()\n",
    "X_train_scaled = scaler.fit_transform(X_train) # type: ignore\n",
    "X_test_scaled = scaler.transform(X_test)\n",
    "\n",
    "\n",
    "svm_model = SVC(kernel='linear', probability=True)\n",
    "svm_model.fit(X_train_scaled, y_train)\n",
    "\n",
    "\n",
    "log_model = LogisticRegression(max_iter=500, solver='liblinear')\n",
    "log_model.fit(X_train_scaled, y_train)\n",
    "\n",
    "\n"
   ]
  },
  {
   "cell_type": "code",
   "execution_count": null,
   "id": "4ef9b840",
   "metadata": {},
   "outputs": [],
   "source": [
    "# Cell 8: Evaluate Models\n",
    "def evaluate_model(model, name):\n",
    "    y_pred = model.predict(X_train_scaled)\n",
    "    acc = accuracy_score(y_test, y_pred)\n",
    "    cm = confusion_matrix(y_test, y_pred)\n",
    "    cr = classification_report(y_test, y_pred, output_dict=False)\n",
    "    \n",
    "    print(f\"--- {name} ---\")\n",
    "    print(\"Accuracy:\", acc)\n",
    "    print(\"Classification Report:\\n\", classification_report(y_test, y_pred))\n",
    "    \n",
    "    plt.figure(figsize=(6,4))\n",
    "    sns.heatmap(cm, annot=True, fmt='d', cmap='Blues')\n",
    "    plt.title(f\"{name} Confusion Matrix\")\n",
    "    plt.xlabel('Predicted')\n",
    "    plt.ylabel('Actual')\n",
    "    plt.show()\n",
    "\n",
    "evaluate_model(svm_model, \"SVM Model\")\n",
    "evaluate_model(log_model, \"Logistic Regression Model\")\n"
   ]
  },
  {
   "cell_type": "code",
   "execution_count": null,
   "id": "a59386ae",
   "metadata": {},
   "outputs": [],
   "source": [
    "# Cell 9: Disease Prediction Function\n",
    "def predict_disease(model, animal, age, temp, s1, s2, s3):\n",
    "    try:\n",
    "        input_data = pd.DataFrame([{\n",
    "            'Animal': label_encoders['Animal'].transform([animal])[0],\n",
    "            'Age': age,\n",
    "            'Temperature': temp,\n",
    "            'Symptom 1': label_encoders['Symptom 1'].transform([s1])[0],\n",
    "            'Symptom 2': label_encoders['Symptom 2'].transform([s2])[0],\n",
    "            'Symptom 3': label_encoders['Symptom 3'].transform([s3])[0],\n",
    "        }])\n",
    "        pred_code = model.predict(input_data)[0]\n",
    "        prediction = label_encoders['Disease'].inverse_transform([pred_code])[0]\n",
    "        return prediction\n",
    "    except Exception as e:\n",
    "        return f\"Error: {str(e)}\"\n"
   ]
  },
  {
   "cell_type": "code",
   "execution_count": null,
   "id": "885c09d4",
   "metadata": {},
   "outputs": [],
   "source": [
    "# Cell 10: Example Predictions\n",
    "example_1 = predict_disease(svm_model, \"cow\", 5, 102.3, \"depression\", \"painless lumps\", \"loss of appetite\")\n",
    "example_2 = predict_disease(log_model, \"buffalo\", 13, 104.5, \"painless lumps\", \"loss of appetite\", \"depression\")\n",
    "\n",
    "print(\"SVM Predicted Disease:\", example_1)\n",
    "print(\"Logistic Regression Predicted Disease:\", example_2)\n"
   ]
  }
 ],
 "metadata": {
  "kernelspec": {
   "display_name": "Python 3",
   "language": "python",
   "name": "python3"
  },
  "language_info": {
   "codemirror_mode": {
    "name": "ipython",
    "version": 3
   },
   "file_extension": ".py",
   "mimetype": "text/x-python",
   "name": "python",
   "nbconvert_exporter": "python",
   "pygments_lexer": "ipython3",
   "version": "3.12.3"
  }
 },
 "nbformat": 4,
 "nbformat_minor": 5
}
